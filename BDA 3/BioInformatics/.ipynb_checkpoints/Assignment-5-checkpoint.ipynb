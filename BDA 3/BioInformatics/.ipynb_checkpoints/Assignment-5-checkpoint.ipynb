{
 "cells": [
  {
   "cell_type": "code",
   "execution_count": 1,
   "metadata": {},
   "outputs": [],
   "source": [
    "import random\n",
    "from Bio.Seq import Seq\n",
    "from Bio import SeqIO\n",
    "from Bio.Align.Applications import ClustalwCommandline\n",
    "#help(ClustalwCommandline)"
   ]
  },
  {
   "cell_type": "markdown",
   "metadata": {},
   "source": [
    "### Q1)Construct ten \"nt\" random sequences each of size 20 and saved in fasta file format."
   ]
  },
  {
   "cell_type": "code",
   "execution_count": 2,
   "metadata": {},
   "outputs": [],
   "source": [
    "def generateSeq(length):\n",
    "    lst = list([\"A\",\"T\",\"G\",\"C\"])\n",
    "    String = \"\".join(random.choice(lst) for i in range(length))\n",
    "    return String"
   ]
  },
  {
   "cell_type": "code",
   "execution_count": 3,
   "metadata": {},
   "outputs": [],
   "source": [
    "size=20\n",
    "list_seq=[]\n",
    "list_name=[]\n",
    "for i in range(10):\n",
    "    list_seq.append(generateSeq(size))\n",
    "    list_name.append('seq'+str(i+1))"
   ]
  },
  {
   "cell_type": "code",
   "execution_count": 4,
   "metadata": {},
   "outputs": [],
   "source": [
    "dict_s_n = dict(zip(list_seq , list_name))\n",
    "\n",
    "ofile = open('my_sequences.fasta', \"w\")\n",
    "for i in range(len(list_seq)):\n",
    "    ofile.write(\">\" + list_name[i] + \"\\n\" +list_seq[i] + \"\\n\")\n",
    "ofile.close()"
   ]
  },
  {
   "cell_type": "code",
   "execution_count": 5,
   "metadata": {},
   "outputs": [
    {
     "name": "stdout",
     "output_type": "stream",
     "text": [
      "Seq('CGGCTGTCTACGTTGCAAGC', SingleLetterAlphabet())\n",
      "Seq('GAGCGCCGACTACACCACCT', SingleLetterAlphabet())\n",
      "Seq('TATTCCGGTTTGCCAATCTC', SingleLetterAlphabet())\n",
      "Seq('TGCGCATTTGATTGGACTAA', SingleLetterAlphabet())\n",
      "Seq('ATGACTGATTTAACCATGGG', SingleLetterAlphabet())\n",
      "Seq('AGGAGTGACCCGATCATAGC', SingleLetterAlphabet())\n",
      "Seq('AGGTACCAATGGTGGGCGCT', SingleLetterAlphabet())\n",
      "Seq('CCCCACGGTCAATGTCCTGG', SingleLetterAlphabet())\n",
      "Seq('GGATTCTGACACGCAAAATA', SingleLetterAlphabet())\n",
      "Seq('GAGTAGTCTCATAACATCAG', SingleLetterAlphabet())\n"
     ]
    }
   ],
   "source": [
    "for seq_record in SeqIO.parse('my_sequences.fasta', \"fasta\"):\n",
    "    print(repr(seq_record.seq))"
   ]
  },
  {
   "cell_type": "markdown",
   "metadata": {},
   "source": [
    "### Q2) Align these sequences using the program ClustalW"
   ]
  },
  {
   "cell_type": "code",
   "execution_count": 6,
   "metadata": {},
   "outputs": [
    {
     "name": "stdout",
     "output_type": "stream",
     "text": [
      "clustalw-2.1-linux-x86_64-libcppstatic/clustalw2 -infile=my_sequences.fasta\n"
     ]
    }
   ],
   "source": [
    "import os\n",
    "from Bio.Align.Applications import ClustalwCommandline\n",
    "\n",
    "#download exe from http://clustal.org/download/current/\n",
    "clustalw_exe = \"clustalw-2.1-linux-x86_64-libcppstatic/clustalw2\"\n",
    "clustalw_cline = ClustalwCommandline(clustalw_exe, infile='my_sequences.fasta')\n",
    "print(clustalw_cline)"
   ]
  },
  {
   "cell_type": "code",
   "execution_count": 7,
   "metadata": {},
   "outputs": [],
   "source": [
    "import os\n",
    "assert os.path.isfile(clustalw_exe), \"Clustal W executable missing\"\n",
    "stdout, stderr = clustalw_cline()"
   ]
  },
  {
   "cell_type": "code",
   "execution_count": 8,
   "metadata": {},
   "outputs": [
    {
     "name": "stdout",
     "output_type": "stream",
     "text": [
      "SingleLetterAlphabet() alignment with 10 rows and 27 columns\n",
      "--CGGCTGTCTACGTTGCAAGC----- seq1\n",
      "---GAGCGCCGACTACACCACCT---- seq2\n",
      "------TATT-CCGGTTTGCCAATCTC seq3\n",
      "-------ATGACTGATTTAACCATGGG seq5\n",
      "---AGGTACCAATGGTGGGCGCT---- seq7\n",
      "TGCGCA-TTTGATTGGACTAA------ seq4\n",
      "-GAGTAGTCTCATAACATCAG------ seq10\n",
      "-------CCCCACGGTCAATGTCCTGG seq8\n",
      "---GGATTCTGACACGCAAAATA---- seq9\n",
      "--AGGAGTGACCCGATCATAGC----- seq6\n"
     ]
    }
   ],
   "source": [
    "from Bio import AlignIO\n",
    "align = AlignIO.read(\"my_sequences.aln\", \"clustal\")\n",
    "print(align)"
   ]
  },
  {
   "cell_type": "markdown",
   "metadata": {},
   "source": [
    "## Q3) Construct a Phylogenetic tree (newwick format) using the clustalW outcome"
   ]
  },
  {
   "cell_type": "code",
   "execution_count": 9,
   "metadata": {},
   "outputs": [
    {
     "data": {
      "image/png": "[encoded data removed]",
      "text/plain": [
       "<Figure size 432x288 with 1 Axes>"
      ]
     },
     "metadata": {
      "needs_background": "light"
     },
     "output_type": "display_data"
    }
   ],
   "source": [
    "from Bio import Phylo\n",
    "tree = Phylo.read(\"my_sequences.dnd\", \"newick\")\n",
    "tree.rooted=True\n",
    "Phylo.draw(tree)"
   ]
  },
  {
   "cell_type": "code",
   "execution_count": null,
   "metadata": {},
   "outputs": [],
   "source": []
  }
 ],
 "metadata": {
  "kernelspec": {
   "display_name": "Python 3",
   "language": "python",
   "name": "python3"
  },
  "language_info": {
   "codemirror_mode": {
    "name": "ipython",
    "version": 3
   },
   "file_extension": ".py",
   "mimetype": "text/x-python",
   "name": "python",
   "nbconvert_exporter": "python",
   "pygments_lexer": "ipython3",
   "version": "3.8.3"
  }
 },
 "nbformat": 4,
 "nbformat_minor": 4
}
