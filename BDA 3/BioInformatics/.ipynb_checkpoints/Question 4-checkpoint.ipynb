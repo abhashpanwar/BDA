{
 "cells": [
  {
   "cell_type": "markdown",
   "metadata": {},
   "source": [
    "# Code 1:"
   ]
  },
  {
   "cell_type": "code",
   "execution_count": 13,
   "metadata": {},
   "outputs": [
    {
     "name": "stdout",
     "output_type": "stream",
     "text": [
      "Unique sequences are 100 out of total 100\n"
     ]
    }
   ],
   "source": [
    "from Bio import SeqIO\n",
    "import numpy as np\n",
    "import re\n",
    "\n",
    "fasta_filename='Protein_seq.fasta'\n",
    "fasta_seq=[]\n",
    "\n",
    "#loop to get sequences\n",
    "for record in SeqIO.parse(fasta_filename, \"fasta\"):\n",
    "    fasta_seq.append(str(record.seq))\n",
    "    \n",
    "#convert seq list into set because set contain only unique items    \n",
    "unique_seq=list(np.unique(fasta_seq))\n",
    "\n",
    "print(\"Unique sequences are {} out of total {}\".format(len(unique_seq),len(fasta_seq)))"
   ]
  },
  {
   "cell_type": "markdown",
   "metadata": {},
   "source": [
    "# Code 2:"
   ]
  },
  {
   "cell_type": "code",
   "execution_count": 15,
   "metadata": {},
   "outputs": [
    {
     "name": "stdout",
     "output_type": "stream",
     "text": [
      "Species of unique squences are:\n",
      "{'Ectocarpus sp. CCAP 1310/34', 'Staphylococcus aureus', 'Bacillus cereus Q1', 'Hondaea fermentalgiana', 'Staphylococcus', 'Lingulodinium polyedra'}\n"
     ]
    }
   ],
   "source": [
    "seq_desc=[]\n",
    "\n",
    "#loop to get description of unique sequences\n",
    "for record in SeqIO.parse(fasta_filename, \"fasta\"):    \n",
    "    if(str(record.seq) in unique_seq):       \n",
    "        seq_desc.append(record.description)   \n",
    "\n",
    "def ExtractSpecies(seq_desc):\n",
    "    species=list()\n",
    "    for i in range(len(seq_desc)):\n",
    "        species.append(re.findall(r\"\\[(.*?)\\]\", seq_desc[i])[0]) \n",
    "    s=set(species)    \n",
    "    return(s) \n",
    "\n",
    "species=ExtractSpecies(seq_desc)\n",
    "print(\"Species of unique squences are:\")\n",
    "print(species)"
   ]
  },
  {
   "cell_type": "code",
   "execution_count": null,
   "metadata": {},
   "outputs": [],
   "source": []
  }
 ],
 "metadata": {
  "kernelspec": {
   "display_name": "Python 3.8.3 64-bit ('base': conda)",
   "language": "python",
   "name": "python38364bitbaseconda14573fd2ccc84d04813e3b8f229a0662"
  },
  "language_info": {
   "codemirror_mode": {
    "name": "ipython",
    "version": 3
   },
   "file_extension": ".py",
   "mimetype": "text/x-python",
   "name": "python",
   "nbconvert_exporter": "python",
   "pygments_lexer": "ipython3",
   "version": "3.8.3"
  }
 },
 "nbformat": 4,
 "nbformat_minor": 4
}
