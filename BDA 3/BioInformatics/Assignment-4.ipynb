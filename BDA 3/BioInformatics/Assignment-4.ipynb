{
 "cells": [
  {
   "cell_type": "code",
   "execution_count": 1,
   "metadata": {},
   "outputs": [],
   "source": [
    "from Bio.Seq import Seq\n",
    "import random"
   ]
  },
  {
   "cell_type": "code",
   "execution_count": 2,
   "metadata": {},
   "outputs": [],
   "source": [
    "def seq(length):\n",
    "    lst = list([\"A\",\"T\",\"G\",\"C\"])\n",
    "    String = \"\".join(random.choice(lst) for i in range(length))\n",
    "    return String"
   ]
  },
  {
   "cell_type": "code",
   "execution_count": 3,
   "metadata": {},
   "outputs": [
    {
     "name": "stdout",
     "output_type": "stream",
     "text": [
      "ATCCACAAGAGGCTCAGAAC\n",
      "GGATGCCGCAGTTGGTTCCC\n"
     ]
    }
   ],
   "source": [
    "n=20\n",
    "seq1=seq(n)\n",
    "seq2=seq(n)\n",
    "print(seq1)\n",
    "print(seq2)"
   ]
  },
  {
   "cell_type": "markdown",
   "metadata": {},
   "source": [
    "## Score Matrix (Needleman and Wunsch algorithm)"
   ]
  },
  {
   "cell_type": "code",
   "execution_count": 4,
   "metadata": {},
   "outputs": [],
   "source": [
    "import numpy as np\n",
    "\n",
    "def scoreMatrix(s1,s2):\n",
    "    ls2=list(s2)\n",
    "    ls1=list(s1)\n",
    "    matrix=np.zeros((len(s1)+1,len(s2)+1),int)\n",
    "    matrix[0,:]=np.arange(0,len(s2)+1)*-1\n",
    "    matrix[:,0]=np.arange(0,len(s1)+1)*-1\n",
    "    size=np.shape(matrix)\n",
    "    for i in range(size[0]-1):\n",
    "        for j in range(size[1]-1):\n",
    "            if ls1[i]==ls2[j]:\n",
    "                matrix[i+1,j+1]=max(matrix[i+1,j]-1,matrix[i,j]+1,matrix[i,j+1]-1)\n",
    "            else:\n",
    "                matrix[i+1,j+1]=max(matrix[i+1,j]-1,matrix[i,j],matrix[i,j+1]-1)\n",
    "    return matrix"
   ]
  },
  {
   "cell_type": "code",
   "execution_count": 5,
   "metadata": {},
   "outputs": [
    {
     "name": "stdout",
     "output_type": "stream",
     "text": [
      "[[  0  -1  -2  -3  -4  -5  -6  -7  -8  -9 -10 -11 -12 -13 -14 -15 -16 -17\n",
      "  -18 -19 -20]\n",
      " [ -1   0  -1  -1  -2  -3  -4  -5  -6  -7  -8  -9 -10 -11 -12 -13 -14 -15\n",
      "  -16 -17 -18]\n",
      " [ -2  -1   0  -1   0  -1  -2  -3  -4  -5  -6  -7  -8  -9 -10 -11 -12 -13\n",
      "  -14 -15 -16]\n",
      " [ -3  -2  -1   0  -1   0   0  -1  -2  -3  -4  -5  -6  -7  -8  -9 -10 -11\n",
      "  -12 -13 -14]\n",
      " [ -4  -3  -2  -1   0  -1   1   1   0  -1  -2  -3  -4  -5  -6  -7  -8  -9\n",
      "  -10 -11 -12]\n",
      " [ -5  -4  -3  -1  -1   0   0   1   1   0   0  -1  -2  -3  -4  -5  -6  -7\n",
      "   -8  -9 -10]\n",
      " [ -6  -5  -4  -2  -1  -1   1   1   1   2   1   0  -1  -2  -3  -4  -5  -6\n",
      "   -6  -7  -8]\n",
      " [ -7  -6  -5  -3  -2  -1   0   1   1   1   3   2   1   0  -1  -2  -3  -4\n",
      "   -5  -6  -7]\n",
      " [ -8  -7  -6  -4  -3  -2  -1   0   1   1   2   3   2   1   0  -1  -2  -3\n",
      "   -4  -5  -6]\n",
      " [ -9  -7  -6  -5  -4  -2  -2  -1   1   1   1   3   3   2   2   1   0  -1\n",
      "   -2  -3  -4]\n",
      " [-10  -8  -7  -5  -5  -3  -2  -2   0   1   2   2   3   3   2   2   1   0\n",
      "   -1  -2  -3]\n",
      " [-11  -9  -7  -6  -5  -4  -3  -2  -1   0   1   3   2   3   4   3   2   1\n",
      "    0  -1  -2]\n",
      " [-12 -10  -8  -7  -6  -4  -4  -3  -1  -1   0   2   3   2   4   5   4   3\n",
      "    2   1   0]\n",
      " [-13 -11  -9  -8  -7  -5  -3  -3  -2   0  -1   1   2   3   3   4   5   4\n",
      "    4   3   2]\n",
      " [-14 -12 -10  -9  -7  -6  -4  -3  -3  -1   0   0   2   3   3   3   5   6\n",
      "    5   4   3]\n",
      " [-15 -13 -11 -10  -8  -7  -5  -3  -3  -2  -1   0   1   2   3   3   4   5\n",
      "    7   6   5]\n",
      " [-16 -14 -12 -10  -9  -8  -6  -4  -3  -3  -1  -1   0   1   2   3   3   4\n",
      "    6   7   6]\n",
      " [-17 -15 -13 -11 -10  -8  -7  -5  -3  -3  -2   0  -1   0   2   3   3   3\n",
      "    5   6   7]\n",
      " [-18 -16 -14 -12 -11  -9  -8  -6  -4  -3  -2  -1   0  -1   1   2   3   3\n",
      "    4   5   6]\n",
      " [-19 -17 -15 -13 -12 -10  -9  -7  -5  -4  -2  -2  -1   0   0   1   2   3\n",
      "    3   4   5]\n",
      " [-20 -18 -16 -14 -13 -11  -9  -8  -6  -4  -3  -2  -2  -1   0   0   1   2\n",
      "    4   4   5]]\n"
     ]
    }
   ],
   "source": [
    "m=scoreMatrix(seq1,seq2)\n",
    "print(m)"
   ]
  },
  {
   "cell_type": "markdown",
   "metadata": {},
   "source": [
    "## Alignment score and the best alignment"
   ]
  },
  {
   "cell_type": "code",
   "execution_count": 6,
   "metadata": {},
   "outputs": [],
   "source": [
    "from Bio import Align\n",
    "aligner = Align.PairwiseAligner()\n",
    "aligner.gap_score=-1\n",
    "aligner.match_score=1\n",
    "aligner.mismatch_score=0\n",
    "alignments = aligner.align(seq2,seq1)"
   ]
  },
  {
   "cell_type": "code",
   "execution_count": 7,
   "metadata": {},
   "outputs": [
    {
     "name": "stdout",
     "output_type": "stream",
     "text": [
      "Score = 5.0:\n",
      "GGATGCCGCAGTTGGTTC-C--C\n",
      "--||-||.||...||.||-.--|\n",
      "--AT-CCACAAGAGGCTCAGAAC\n",
      "\n",
      "Score = 5.0:\n",
      "GGATGCCGCAGTTGGTTC--C-C\n",
      "--||-||.||...||.||--.-|\n",
      "--AT-CCACAAGAGGCTCAGAAC\n",
      "\n",
      "Score = 5.0:\n",
      "GGATGCCGCAGTTGGTTC---CC\n",
      "--||-||.||...||.||---.|\n",
      "--AT-CCACAAGAGGCTCAGAAC\n",
      "\n",
      "Score = 5.0:\n",
      "GGATGCCGCAGTTGGTTCC---C\n",
      "--||-||.||...||.||.---|\n",
      "--AT-CCACAAGAGGCTCAGAAC\n",
      "\n"
     ]
    }
   ],
   "source": [
    "for alignment in sorted(alignments):\n",
    "    print(\"Score = %.1f:\" % alignment.score)\n",
    "    print(alignment)"
   ]
  },
  {
   "cell_type": "code",
   "execution_count": null,
   "metadata": {},
   "outputs": [],
   "source": []
  }
 ],
 "metadata": {
  "kernelspec": {
   "display_name": "Python 3.8.3 64-bit ('base': conda)",
   "language": "python",
   "name": "python38364bitbaseconda14573fd2ccc84d04813e3b8f229a0662"
  },
  "language_info": {
   "codemirror_mode": {
    "name": "ipython",
    "version": 3
   },
   "file_extension": ".py",
   "mimetype": "text/x-python",
   "name": "python",
   "nbconvert_exporter": "python",
   "pygments_lexer": "ipython3",
   "version": "3.8.3"
  }
 },
 "nbformat": 4,
 "nbformat_minor": 4
}
