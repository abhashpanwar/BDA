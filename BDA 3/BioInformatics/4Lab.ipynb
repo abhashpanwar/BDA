{
 "cells": [
  {
   "cell_type": "code",
   "execution_count": 1,
   "metadata": {},
   "outputs": [],
   "source": [
    "#Ques1. Calculate the frrequency of amino acid from 100 protein sequences directly downloaded from NCBI site and plot it.\n",
    "#(you can take protein GDH or P53)\n",
    "#Ques2. Separate the species from 100 protein sequences downloaded according to accession no."
   ]
  },
  {
   "cell_type": "code",
   "execution_count": 2,
   "metadata": {},
   "outputs": [],
   "source": [
    "import Bio\n",
    "from Bio import Seq\n",
    "from Bio import SeqIO \n",
    "from Bio import Entrez #for downloading sequence for different sites"
   ]
  },
  {
   "cell_type": "code",
   "execution_count": 3,
   "metadata": {},
   "outputs": [],
   "source": [
    "Entrez.email=\"miniverma23april@gmail.com\"\n",
    "handle=Entrez.esearch(db=\"protein\", term=\"GDH[All Fields]\",Retmax=100)\n",
    "record=Entrez.read(handle)\n",
    "fa_list=record[\"IdList\"]\n",
    "handle=Entrez.efetch(db=\"protein\",id=fa_list,rettype=\"fasta\",tetmode=\"text\",Retmax=100)\n",
    "text=handle.read()\n",
    "#name end with 'ase' represents enzyme\n",
    "f1 = open(\"GDH-text.fasta\", \"w\")\n",
    "f1.write(text)\n",
    "f1.close()\n",
    "#id_list=[]\n",
    "record1=list(SeqIO.parse(handle='GDH-text.fasta',format='fasta'))\n",
    "\"\"\"for i in record1:\n",
    "    id_list.append(i.id)\n",
    "record2=list(SeqIO.parse(\"GDH-text.fasta\",\"fasta\")) \n",
    "\"\"\"\n",
    "seq_list=[]\n",
    "for j in record1:   \n",
    "    seq_list.append(j.seq)"
   ]
  },
  {
   "cell_type": "code",
   "execution_count": 4,
   "metadata": {},
   "outputs": [],
   "source": [
    "str1=str(seq_list[0])"
   ]
  },
  {
   "cell_type": "code",
   "execution_count": null,
   "metadata": {},
   "outputs": [],
   "source": []
  },
  {
   "cell_type": "code",
   "execution_count": 5,
   "metadata": {},
   "outputs": [],
   "source": [
    "def seq_count(seq_list):\n",
    "    freq={'A':0,'R':0,'N':0,'D':0,'C':0,'Q':0,'E':0,'G':0,'H':0,'I':0,'L':0,'K':0,'M':0,'F':0,'P':0,'S':0,'T':0,'W':0,'Y':0,'V':0}\n",
    "    for i in range(len(seq_list)):\n",
    "        for j in freq:\n",
    "            freq[j]+=seq_list[i].count(j)\n",
    "    return freq        "
   ]
  },
  {
   "cell_type": "code",
   "execution_count": 6,
   "metadata": {},
   "outputs": [],
   "source": [
    "freq_dict=seq_count(seq_list)"
   ]
  },
  {
   "cell_type": "code",
   "execution_count": 7,
   "metadata": {},
   "outputs": [
    {
     "data": {
      "image/png": "[encoded data removed]",
      "text/plain": [
       "<Figure size 432x288 with 1 Axes>"
      ]
     },
     "metadata": {
      "needs_background": "light"
     },
     "output_type": "display_data"
    }
   ],
   "source": [
    "#Plot\n",
    "import matplotlib.pyplot as plt\n",
    "plt.bar(*zip(*freq_dict.items()))\n",
    "plt.show()\n"
   ]
  },
  {
   "cell_type": "code",
   "execution_count": 59,
   "metadata": {},
   "outputs": [],
   "source": [
    "seq_desc=[]\n",
    "for j in record1:   \n",
    "    seq_desc.append(j.description)"
   ]
  },
  {
   "cell_type": "code",
   "execution_count": 107,
   "metadata": {},
   "outputs": [],
   "source": [
    "import re\n",
    "def ExtractSpecies(seq_desc):\n",
    "    species=list()\n",
    "    for i in range(len(seq_desc)):\n",
    "        species.append(re.findall(r\"\\[(.*?)\\]\", seq_desc[i])[0]) \n",
    "    s=set(species)    \n",
    "    return(s)"
   ]
  },
  {
   "cell_type": "code",
   "execution_count": 108,
   "metadata": {},
   "outputs": [
    {
     "data": {
      "text/plain": [
       "{'Acetobacter oeni',\n",
       " 'Acinetobacter cumulans',\n",
       " 'Actinotalea fermentans',\n",
       " 'Bacillaceae bacterium ZC4',\n",
       " 'Bacillus',\n",
       " 'Brevifollis gellanilyticus',\n",
       " 'Burkholderia pseudomallei',\n",
       " 'Burkholderia sp. BT03',\n",
       " 'Candidatus Dormibacter sp. RRmetagenome_bin12',\n",
       " 'Candidatus Eremiobacter sp. RRmetagenome_bin22',\n",
       " 'Cellulomonas aerilata',\n",
       " 'Chitinophaga terrae Kim and Jung 2007',\n",
       " 'Desulfovibrio carbinoliphilus',\n",
       " 'Enterococcus faecalis',\n",
       " 'Halomonas sp. TBZ202',\n",
       " 'Herbaspirillum',\n",
       " 'Indioceanicola profundi',\n",
       " 'Klebsiella pneumoniae',\n",
       " 'Knoellia locipacati',\n",
       " 'Lactobacillus alimentarius',\n",
       " 'Lactobacillus buchneri',\n",
       " 'Lactobacillus diolivorans',\n",
       " 'Lactobacillus mindensis',\n",
       " 'Lactobacillus nantensis',\n",
       " 'Lactobacillus paraplantarum',\n",
       " 'Lactobacillus pentosus',\n",
       " 'Lactobacillus plantarum subsp. argentoratensis',\n",
       " 'Lactobacillus pobuzihii',\n",
       " 'Lactobacillus rapi',\n",
       " 'Mesorhizobium',\n",
       " 'Mesorhizobium sp. M2E.F.Ca.ET.209.01.1.1',\n",
       " 'Mesorhizobium sp. YM1C-6-2',\n",
       " 'Methylocystaceae',\n",
       " 'Microvirga aerophila',\n",
       " 'Mycobacteroides abscessus',\n",
       " 'Neoasaia chiangmaiensis',\n",
       " 'Paraburkholderia sediminicola',\n",
       " 'Phyllobacteriaceae bacterium SYSU D60010',\n",
       " 'Phyllobacteriaceae bacterium SYSU D60012',\n",
       " 'Planctomycetes bacterium K23_9',\n",
       " 'Planctomycetes bacterium Pla163',\n",
       " 'Pseudoalteromonas nigrifaciens',\n",
       " 'Pseudoalteromonas tetraodonis GFC',\n",
       " 'Pseudomonas',\n",
       " 'Pseudomonas lurida',\n",
       " 'Pseudomonas palleroniana',\n",
       " 'Pseudomonas sp. PA15(2017)',\n",
       " 'Pseudomonas sp. TTU2014-080ASC',\n",
       " 'Pseudonocardia sp. CNS-139',\n",
       " 'Rhizobiales bacterium',\n",
       " 'Rhizobium naphthalenivorans',\n",
       " 'Rhodospirillaceae bacterium SYSU D60009',\n",
       " 'Roseovarius sp. HN-E21',\n",
       " 'Sinobacteraceae bacterium',\n",
       " 'Skermanella aerolata',\n",
       " 'Sporomusa termitida',\n",
       " 'Stenotrophomonas pictorum JCM 9942',\n",
       " 'Streptococcus cristatus',\n",
       " 'Sulfodiicoccus acidiphilus',\n",
       " 'Weissella confusa',\n",
       " 'Weissella thailandensis',\n",
       " 'Xanthomonas campestris',\n",
       " 'Xanthomonas oryzae'}"
      ]
     },
     "execution_count": 108,
     "metadata": {},
     "output_type": "execute_result"
    }
   ],
   "source": [
    "ExtractSpecies(seq_desc)"
   ]
  },
  {
   "cell_type": "code",
   "execution_count": 6,
   "metadata": {},
   "outputs": [
    {
     "ename": "NameError",
     "evalue": "name 'path' is not defined",
     "output_type": "error",
     "traceback": [
      "\u001b[0;31m---------------------------------------------------------------------------\u001b[0m",
      "\u001b[0;31mNameError\u001b[0m                                 Traceback (most recent call last)",
      "\u001b[0;32m<ipython-input-6-6af5bf91aa5b>\u001b[0m in \u001b[0;36m<module>\u001b[0;34m\u001b[0m\n\u001b[0;32m----> 1\u001b[0;31m \u001b[0;32mfor\u001b[0m \u001b[0mrecord\u001b[0m \u001b[0;32min\u001b[0m \u001b[0mSeqIO\u001b[0m\u001b[0;34m.\u001b[0m\u001b[0mparse\u001b[0m\u001b[0;34m(\u001b[0m\u001b[0mpath\u001b[0m\u001b[0;34m,\u001b[0m \u001b[0;34m\"fasta\"\u001b[0m\u001b[0;34m)\u001b[0m\u001b[0;34m:\u001b[0m\u001b[0;34m\u001b[0m\u001b[0;34m\u001b[0m\u001b[0m\n\u001b[0m\u001b[1;32m      2\u001b[0m     \u001b[0mfasta_name\u001b[0m\u001b[0;34m.\u001b[0m\u001b[0mappend\u001b[0m\u001b[0;34m(\u001b[0m\u001b[0;34m'>'\u001b[0m \u001b[0;34m+\u001b[0m \u001b[0mrecord\u001b[0m\u001b[0;34m.\u001b[0m\u001b[0mid\u001b[0m\u001b[0;34m)\u001b[0m\u001b[0;34m\u001b[0m\u001b[0;34m\u001b[0m\u001b[0m\n\u001b[1;32m      3\u001b[0m     \u001b[0mfasta_seq\u001b[0m\u001b[0;34m.\u001b[0m\u001b[0mappend\u001b[0m\u001b[0;34m(\u001b[0m\u001b[0mrecord\u001b[0m\u001b[0;34m.\u001b[0m\u001b[0mseq\u001b[0m\u001b[0;34m)\u001b[0m\u001b[0;34m\u001b[0m\u001b[0;34m\u001b[0m\u001b[0m\n\u001b[1;32m      4\u001b[0m \u001b[0mdf\u001b[0m \u001b[0;34m=\u001b[0m \u001b[0mpd\u001b[0m\u001b[0;34m.\u001b[0m\u001b[0mSeries\u001b[0m\u001b[0;34m(\u001b[0m\u001b[0mfasta_seq\u001b[0m\u001b[0;34m,\u001b[0m \u001b[0mindex\u001b[0m \u001b[0;34m=\u001b[0m \u001b[0mfasta_name\u001b[0m\u001b[0;34m)\u001b[0m\u001b[0;34m\u001b[0m\u001b[0;34m\u001b[0m\u001b[0m\n\u001b[1;32m      5\u001b[0m \u001b[0mdf_dups\u001b[0m \u001b[0;34m=\u001b[0m \u001b[0mdf\u001b[0m\u001b[0;34m.\u001b[0m\u001b[0mindex\u001b[0m\u001b[0;34m.\u001b[0m\u001b[0mduplicated\u001b[0m\u001b[0;34m(\u001b[0m\u001b[0;34m)\u001b[0m\u001b[0;34m\u001b[0m\u001b[0;34m\u001b[0m\u001b[0m\n",
      "\u001b[0;31mNameError\u001b[0m: name 'path' is not defined"
     ]
    }
   ],
   "source": [
    "for record in SeqIO.parse(path, \"fasta\"):\n",
    "    fasta_name.append('>' + record.id)\n",
    "    fasta_seq.append(record.seq)\n",
    "df = pd.Series(fasta_seq, index = fasta_name)\n",
    "df_dups = df.index.duplicated()\n",
    "mydups = df[df_dups]"
   ]
  },
  {
   "cell_type": "code",
   "execution_count": 5,
   "metadata": {},
   "outputs": [
    {
     "ename": "NameError",
     "evalue": "name 'fasta_seq' is not defined",
     "output_type": "error",
     "traceback": [
      "\u001b[0;31m---------------------------------------------------------------------------\u001b[0m",
      "\u001b[0;31mNameError\u001b[0m                                 Traceback (most recent call last)",
      "\u001b[0;32m<ipython-input-5-2641aa2fe333>\u001b[0m in \u001b[0;36m<module>\u001b[0;34m\u001b[0m\n\u001b[0;32m----> 1\u001b[0;31m \u001b[0mfasta_seq\u001b[0m\u001b[0;34m\u001b[0m\u001b[0;34m\u001b[0m\u001b[0m\n\u001b[0m",
      "\u001b[0;31mNameError\u001b[0m: name 'fasta_seq' is not defined"
     ]
    }
   ],
   "source": [
    "fasta_seq"
   ]
  },
  {
   "cell_type": "code",
   "execution_count": null,
   "metadata": {},
   "outputs": [],
   "source": []
  }
 ],
 "metadata": {
  "kernelspec": {
   "display_name": "Python 3",
   "language": "python",
   "name": "python3"
  },
  "language_info": {
   "codemirror_mode": {
    "name": "ipython",
    "version": 3
   },
   "file_extension": ".py",
   "mimetype": "text/x-python",
   "name": "python",
   "nbconvert_exporter": "python",
   "pygments_lexer": "ipython3",
   "version": "3.8.3"
  }
 },
 "nbformat": 4,
 "nbformat_minor": 2
}
