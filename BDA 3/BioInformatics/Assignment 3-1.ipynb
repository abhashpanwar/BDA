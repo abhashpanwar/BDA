{
 "cells": [
  {
   "cell_type": "code",
   "execution_count": 1,
   "metadata": {},
   "outputs": [],
   "source": [
    "import numpy as np\n",
    "import random\n",
    "import string\n",
    "import matplotlib.pyplot as plt\n",
    "from Bio.Seq import Seq\n",
    "from Bio.Alphabet import generic_dna"
   ]
  },
  {
   "cell_type": "markdown",
   "metadata": {},
   "source": [
    "# Problem 1: Write a code for 1-1 dot Plot."
   ]
  },
  {
   "cell_type": "code",
   "execution_count": 2,
   "metadata": {},
   "outputs": [],
   "source": [
    "seq1='AGUCGGU'\n",
    "seq2='AGGCCAG'"
   ]
  },
  {
   "cell_type": "code",
   "execution_count": 3,
   "metadata": {},
   "outputs": [],
   "source": [
    "#this will return indexes if nt of seq.1 is matched with nt of another nt\n",
    "l1=list(seq1)\n",
    "l2=list(seq2)\n",
    "xlist=[]\n",
    "ylist=[]\n",
    "for i in range(len(l1)):        \n",
    "            if(l1[i]==l2[i]):                \n",
    "                xlist.append(i)                "
   ]
  },
  {
   "cell_type": "code",
   "execution_count": 4,
   "metadata": {},
   "outputs": [
    {
     "name": "stdout",
     "output_type": "stream",
     "text": [
      "['A', 'G', 'U', 'C', 'G', 'G', 'U']\n",
      "['A', 'G', 'G', 'C', 'C', 'A', 'G']\n",
      "[0, 1, 3]\n"
     ]
    }
   ],
   "source": [
    "print(l1)\n",
    "print(l2)\n",
    "print(xlist)"
   ]
  },
  {
   "cell_type": "code",
   "execution_count": 5,
   "metadata": {},
   "outputs": [
    {
     "data": {
      "image/png": "[encoded data removed]",
      "text/plain": [
       "<Figure size 360x360 with 1 Axes>"
      ]
     },
     "metadata": {
      "needs_background": "light"
     },
     "output_type": "display_data"
    }
   ],
   "source": [
    "f = plt.figure(figsize=(5,5))\n",
    "plt.scatter(xlist,xlist)\n",
    "\n",
    "xt=plt.xticks(np.arange(len(list(seq1))),list(seq1))\n",
    "yt=plt.yticks(np.arange(len(list(seq2))),list(seq2))\n",
    "\n",
    "\n",
    "plt.xlabel(\"Sequance 1\")\n",
    "plt.ylabel(\"Sequance 2\")\n",
    "plt.title(\"One-One Plot\")\n",
    "plt.grid()\n",
    "plt.savefig('oneoneplot.jpg',dpi=300)\n",
    "plt.show()"
   ]
  },
  {
   "cell_type": "markdown",
   "metadata": {},
   "source": [
    "# Problem 2: Write a code for sliding window and then plotted dot plot."
   ]
  },
  {
   "cell_type": "code",
   "execution_count": 6,
   "metadata": {},
   "outputs": [
    {
     "name": "stdout",
     "output_type": "stream",
     "text": [
      "['AGU', 'GUC', 'UCG', 'CGG', 'GGU']\n",
      "['AGG', 'GGC', 'GCC', 'CCA', 'CAG']\n"
     ]
    }
   ],
   "source": [
    "ws=3\n",
    "thresold=2\n",
    "l1=list(seq1)\n",
    "l2=list(seq2)\n",
    "\n",
    "#make windows of sequences\n",
    "seq11 = [\"\".join(l1[i:i+ws]) for i in range(0, len(l1)) if(len(l1[i:i+ws])==ws)] \n",
    "seq22 = [\"\".join(l2[i:i+ws]) for i in range(0, len(l2)) if(len(l2[i:i+ws])==ws)] \n",
    "\n",
    "print(seq11)\n",
    "print(seq22)"
   ]
  },
  {
   "cell_type": "code",
   "execution_count": 7,
   "metadata": {},
   "outputs": [],
   "source": [
    "#check each window of seq 1 with seq 2 then place dot\n",
    "x=[]\n",
    "y=[]\n",
    "for i in range(len(seq11)):    \n",
    "    for j in range(len(seq22)):\n",
    "        count=0    \n",
    "        for k in range(ws):            \n",
    "            if(seq11[i][k]==seq22[j][k]):\n",
    "                count+=1\n",
    "        if(count>=thresold):            \n",
    "            x.append(seq11.index(seq11[i]))\n",
    "            y.append(seq22.index(seq22[j]))"
   ]
  },
  {
   "cell_type": "code",
   "execution_count": 8,
   "metadata": {},
   "outputs": [
    {
     "data": {
      "image/png": "[encoded data removed]",
      "text/plain": [
       "<Figure size 360x360 with 1 Axes>"
      ]
     },
     "metadata": {
      "needs_background": "light"
     },
     "output_type": "display_data"
    }
   ],
   "source": [
    "f = plt.figure(figsize=(5,5))\n",
    "plt.scatter(x,y)\n",
    "\n",
    "xt=plt.xticks(np.arange(len(list(seq11))),list(seq11),rotation=45)\n",
    "yt=plt.yticks(np.arange(len(list(seq22))),list(seq22))\n",
    "\n",
    "plt.xlabel(\"Sequance 1 ({})\".format(seq1))\n",
    "plt.ylabel(\"Sequance 2 ({})\".format(seq2))\n",
    "plt.title(\"Dot Plot with Window size = {}, thresold={}\".format(ws,thresold))\n",
    "plt.grid()\n",
    "plt.tight_layout()\n",
    "plt.savefig('oneoneplot2.jpg',dpi=300)\n",
    "plt.show()                "
   ]
  },
  {
   "cell_type": "code",
   "execution_count": null,
   "metadata": {},
   "outputs": [],
   "source": []
  }
 ],
 "metadata": {
  "kernelspec": {
   "display_name": "Python 3.8.3 64-bit ('base': conda)",
   "language": "python",
   "name": "python38364bitbaseconda14573fd2ccc84d04813e3b8f229a0662"
  },
  "language_info": {
   "codemirror_mode": {
    "name": "ipython",
    "version": 3
   },
   "file_extension": ".py",
   "mimetype": "text/x-python",
   "name": "python",
   "nbconvert_exporter": "python",
   "pygments_lexer": "ipython3",
   "version": "3.8.3"
  }
 },
 "nbformat": 4,
 "nbformat_minor": 4
}
