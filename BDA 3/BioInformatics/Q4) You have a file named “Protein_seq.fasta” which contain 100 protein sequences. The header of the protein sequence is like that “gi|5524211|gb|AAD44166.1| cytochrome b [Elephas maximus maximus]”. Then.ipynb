{
 "cells": [
  {
   "cell_type": "markdown",
   "metadata": {},
   "source": [
    "# Writing a small Python code to identify the unique sequence?"
   ]
  },
  {
   "cell_type": "code",
   "execution_count": 1,
   "metadata": {},
   "outputs": [
    {
     "data": {
      "application/javascript": [
       "\n",
       "        if (window._pyforest_update_imports_cell) { window._pyforest_update_imports_cell('import pandas as pd'); }\n",
       "    "
      ],
      "text/plain": [
       "<IPython.core.display.Javascript object>"
      ]
     },
     "metadata": {},
     "output_type": "display_data"
    },
    {
     "name": "stdout",
     "output_type": "stream",
     "text": [
      "Total sequences are 100\n",
      "Total unique sequences are 100\n"
     ]
    }
   ],
   "source": [
    "from Bio import SeqIO\n",
    "import re\n",
    "\n",
    "fasta_filename='Protein_seq.fasta'\n",
    "fasta_seq=list()\n",
    "fasta_des=list()\n",
    "\n",
    "#loop to get sequence id,seq and description\n",
    "for record in SeqIO.parse(fasta_filename, \"fasta\"):    \n",
    "    fasta_seq.append(str(record.seq))\n",
    "    fasta_des.append(repr(record.description))\n",
    "\n",
    "#create dataframe    \n",
    "df = pd.DataFrame(data={'fasta_des':fasta_des,'fasta_seq':fasta_seq}, index = fasta_seq)\n",
    "\n",
    "#remove duplicates and give unique sequences\n",
    "df = df[~df.index.duplicated()]\n",
    "\n",
    "#list of sequence\n",
    "unique_seq=list(df.fasta_seq)\n",
    "\n",
    "print(\"Total sequences are\",len(fasta_seq))\n",
    "print(\"Total unique sequences are\",len(unique_seq))"
   ]
  },
  {
   "cell_type": "markdown",
   "metadata": {},
   "source": [
    "# Using Python code how you separate the Species from that unique sequences?"
   ]
  },
  {
   "cell_type": "code",
   "execution_count": 2,
   "metadata": {},
   "outputs": [
    {
     "name": "stdout",
     "output_type": "stream",
     "text": [
      "{'Staphylococcus', 'Bacillus cereus Q1', 'Ectocarpus sp. CCAP 1310/34', 'Hondaea fermentalgiana', 'Staphylococcus aureus', 'Lingulodinium polyedra'}\n"
     ]
    }
   ],
   "source": [
    "#create list of unique sequences description\n",
    "seq_desc=list(df['fasta_des'])\n",
    "\n",
    "def ExtractSpecies(seq_desc):\n",
    "    species=list()\n",
    "    for i in range(len(seq_desc)):\n",
    "        species.append(re.findall(r\"\\[(.*?)\\]\", seq_desc[i])[0]) \n",
    "    s=set(species)    \n",
    "    return(s) \n",
    "\n",
    "species=ExtractSpecies(seq_desc)\n",
    "print(species)"
   ]
  }
 ],
 "metadata": {
  "kernelspec": {
   "display_name": "Python 3.8.3 64-bit ('base': conda)",
   "language": "python",
   "name": "python38364bitbaseconda14573fd2ccc84d04813e3b8f229a0662"
  },
  "language_info": {
   "codemirror_mode": {
    "name": "ipython",
    "version": 3
   },
   "file_extension": ".py",
   "mimetype": "text/x-python",
   "name": "python",
   "nbconvert_exporter": "python",
   "pygments_lexer": "ipython3",
   "version": "3.8.3"
  }
 },
 "nbformat": 4,
 "nbformat_minor": 4
}
