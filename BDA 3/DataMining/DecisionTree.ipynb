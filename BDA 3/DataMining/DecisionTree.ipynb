{
 "cells": [
  {
   "cell_type": "code",
   "execution_count": 1,
   "metadata": {},
   "outputs": [],
   "source": [
    "import pandas as pd\n",
    "import numpy as np\n",
    "import math\n",
    "import operator\n",
    "import pprint"
   ]
  },
  {
   "cell_type": "code",
   "execution_count": 2,
   "metadata": {},
   "outputs": [
    {
     "data": {
      "text/html": [
       "<div>\n",
       "<style scoped>\n",
       "    .dataframe tbody tr th:only-of-type {\n",
       "        vertical-align: middle;\n",
       "    }\n",
       "\n",
       "    .dataframe tbody tr th {\n",
       "        vertical-align: top;\n",
       "    }\n",
       "\n",
       "    .dataframe thead th {\n",
       "        text-align: right;\n",
       "    }\n",
       "</style>\n",
       "<table border=\"1\" class=\"dataframe\">\n",
       "  <thead>\n",
       "    <tr style=\"text-align: right;\">\n",
       "      <th></th>\n",
       "      <th>Outlook</th>\n",
       "      <th>Temparature</th>\n",
       "      <th>Humidty</th>\n",
       "      <th>Wind</th>\n",
       "      <th>Play_Tennis</th>\n",
       "    </tr>\n",
       "    <tr>\n",
       "      <th>Day</th>\n",
       "      <th></th>\n",
       "      <th></th>\n",
       "      <th></th>\n",
       "      <th></th>\n",
       "      <th></th>\n",
       "    </tr>\n",
       "  </thead>\n",
       "  <tbody>\n",
       "    <tr>\n",
       "      <th>Day1</th>\n",
       "      <td>Sunny</td>\n",
       "      <td>Hot</td>\n",
       "      <td>High</td>\n",
       "      <td>Weak</td>\n",
       "      <td>NO</td>\n",
       "    </tr>\n",
       "    <tr>\n",
       "      <th>Day2</th>\n",
       "      <td>Sunny</td>\n",
       "      <td>Hot</td>\n",
       "      <td>High</td>\n",
       "      <td>Strong</td>\n",
       "      <td>NO</td>\n",
       "    </tr>\n",
       "    <tr>\n",
       "      <th>Day3</th>\n",
       "      <td>Overcast</td>\n",
       "      <td>Hot</td>\n",
       "      <td>High</td>\n",
       "      <td>Weak</td>\n",
       "      <td>YES</td>\n",
       "    </tr>\n",
       "    <tr>\n",
       "      <th>Day4</th>\n",
       "      <td>Rain</td>\n",
       "      <td>Mild</td>\n",
       "      <td>High</td>\n",
       "      <td>Weak</td>\n",
       "      <td>YES</td>\n",
       "    </tr>\n",
       "    <tr>\n",
       "      <th>Day5</th>\n",
       "      <td>Rain</td>\n",
       "      <td>Cool</td>\n",
       "      <td>Normal</td>\n",
       "      <td>Weak</td>\n",
       "      <td>YES</td>\n",
       "    </tr>\n",
       "    <tr>\n",
       "      <th>Day6</th>\n",
       "      <td>Rain</td>\n",
       "      <td>Cool</td>\n",
       "      <td>Normal</td>\n",
       "      <td>Strong</td>\n",
       "      <td>NO</td>\n",
       "    </tr>\n",
       "    <tr>\n",
       "      <th>Day7</th>\n",
       "      <td>Overcast</td>\n",
       "      <td>Cool</td>\n",
       "      <td>Normal</td>\n",
       "      <td>Strong</td>\n",
       "      <td>YES</td>\n",
       "    </tr>\n",
       "    <tr>\n",
       "      <th>Day8</th>\n",
       "      <td>Sunny</td>\n",
       "      <td>Mild</td>\n",
       "      <td>High</td>\n",
       "      <td>Weak</td>\n",
       "      <td>NO</td>\n",
       "    </tr>\n",
       "    <tr>\n",
       "      <th>Day9</th>\n",
       "      <td>Sunny</td>\n",
       "      <td>Cool</td>\n",
       "      <td>Normal</td>\n",
       "      <td>Weak</td>\n",
       "      <td>YES</td>\n",
       "    </tr>\n",
       "    <tr>\n",
       "      <th>Day10</th>\n",
       "      <td>Rain</td>\n",
       "      <td>Mild</td>\n",
       "      <td>Normal</td>\n",
       "      <td>Weak</td>\n",
       "      <td>YES</td>\n",
       "    </tr>\n",
       "    <tr>\n",
       "      <th>Day11</th>\n",
       "      <td>Sunny</td>\n",
       "      <td>Mild</td>\n",
       "      <td>Normal</td>\n",
       "      <td>Strong</td>\n",
       "      <td>YES</td>\n",
       "    </tr>\n",
       "    <tr>\n",
       "      <th>Day12</th>\n",
       "      <td>Overcast</td>\n",
       "      <td>Mild</td>\n",
       "      <td>High</td>\n",
       "      <td>Strong</td>\n",
       "      <td>YES</td>\n",
       "    </tr>\n",
       "    <tr>\n",
       "      <th>Day13</th>\n",
       "      <td>Overcast</td>\n",
       "      <td>Hot</td>\n",
       "      <td>Normal</td>\n",
       "      <td>Weak</td>\n",
       "      <td>YES</td>\n",
       "    </tr>\n",
       "    <tr>\n",
       "      <th>Day14</th>\n",
       "      <td>Rain</td>\n",
       "      <td>Mild</td>\n",
       "      <td>High</td>\n",
       "      <td>Strong</td>\n",
       "      <td>NO</td>\n",
       "    </tr>\n",
       "  </tbody>\n",
       "</table>\n",
       "</div>"
      ],
      "text/plain": [
       "        Outlook Temparature Humidty    Wind Play_Tennis\n",
       "Day                                                    \n",
       "Day1      Sunny         Hot    High    Weak          NO\n",
       "Day2      Sunny         Hot    High  Strong          NO\n",
       "Day3   Overcast         Hot    High    Weak         YES\n",
       "Day4       Rain        Mild    High    Weak         YES\n",
       "Day5       Rain        Cool  Normal    Weak         YES\n",
       "Day6       Rain        Cool  Normal  Strong          NO\n",
       "Day7   Overcast        Cool  Normal  Strong         YES\n",
       "Day8      Sunny        Mild    High    Weak          NO\n",
       "Day9      Sunny        Cool  Normal    Weak         YES\n",
       "Day10      Rain        Mild  Normal    Weak         YES\n",
       "Day11     Sunny        Mild  Normal  Strong         YES\n",
       "Day12  Overcast        Mild    High  Strong         YES\n",
       "Day13  Overcast         Hot  Normal    Weak         YES\n",
       "Day14      Rain        Mild    High  Strong          NO"
      ]
     },
     "execution_count": 2,
     "metadata": {},
     "output_type": "execute_result"
    }
   ],
   "source": [
    "df=pd.read_csv('weather.csv',index_col=0)\n",
    "df"
   ]
  },
  {
   "cell_type": "code",
   "execution_count": null,
   "metadata": {},
   "outputs": [],
   "source": [
    "def entropy(p,n):\n",
    "    positive=p/np.sum(p+n)\n",
    "    negative=n/np.sum(p+n)\n",
    "    e= -positive*math.log(positive,2)-negative*math.log(negative,2)\n",
    "    return round(e,3)\n",
    "def gain(df,entro):\n",
    "    E=entropy(int(df[(df['Play_Tennis']=='YES')].count()['Outlook']),\n",
    "          int(df[(df['Play_Tennis']=='NO')].count()['Outlook']))\n",
    "    gain={}\n",
    "    for col in df.columns[:-1]:\n",
    "        temp=0\n",
    "        i=0\n",
    "        for val in df[col].unique():\n",
    "            temp=temp- (int(df[df[col]==val].count()[col])/len(df))*colEntropy[col][i]\n",
    "            i+=1\n",
    "        gain[col]=round(E+temp,4)\n",
    "    return gain"
   ]
  },
  {
   "cell_type": "code",
   "execution_count": null,
   "metadata": {},
   "outputs": [],
   "source": [
    "gain(df,colEntropy)"
   ]
  },
  {
   "cell_type": "code",
   "execution_count": null,
   "metadata": {},
   "outputs": [],
   "source": [
    "\n",
    "#max(gain(df,colEntropy).iteritem(), key=operator.itemgetter(1))[0]\n",
    "inverse = [(value, key) for key, value in gain(df,colEntropy).items()]\n",
    "print (inverse)"
   ]
  },
  {
   "cell_type": "code",
   "execution_count": null,
   "metadata": {},
   "outputs": [],
   "source": [
    "E=entropy(int(df[(df['Play_Tennis']=='YES')].count()['Outlook']),\n",
    "          int(df[(df['Play_Tennis']=='NO')].count()['Outlook']))\n",
    "colEntropy={}\n",
    "for col in df.columns[:-1]:\n",
    "    temp=[]\n",
    "    for val in df[col].unique():\n",
    "        positive=int(df[(df[col]==val) & (df['Play_Tennis']=='YES')].count()[col])\n",
    "        negative=int(df[(df[col]==val) & (df['Play_Tennis']=='NO')].count()[col])\n",
    "        if(positive==0 or negative==0):\n",
    "            temp.append(0)\n",
    "        else:\n",
    "            temp.append(entropy(int(positive),int(negative)))\n",
    "    colEntropy[col]=temp"
   ]
  },
  {
   "cell_type": "code",
   "execution_count": null,
   "metadata": {},
   "outputs": [],
   "source": [
    "colEntropy"
   ]
  },
  {
   "cell_type": "code",
   "execution_count": null,
   "metadata": {},
   "outputs": [],
   "source": [
    "df[df['Outlook']=='Overcast'].count()['Outlook']"
   ]
  },
  {
   "cell_type": "code",
   "execution_count": null,
   "metadata": {},
   "outputs": [],
   "source": [
    "df[(df['Play_Tennis']=='NO')].count()['Outlook']"
   ]
  },
  {
   "cell_type": "code",
   "execution_count": null,
   "metadata": {},
   "outputs": [],
   "source": [
    "E=entropy(int(df[(df['Play_Tennis']=='YES')].count()['Outlook']),\n",
    "          int(df[(df['Play_Tennis']=='NO')].count()['Outlook']))\n",
    "E"
   ]
  },
  {
   "cell_type": "code",
   "execution_count": null,
   "metadata": {},
   "outputs": [],
   "source": [
    "df.columns"
   ]
  },
  {
   "cell_type": "code",
   "execution_count": null,
   "metadata": {},
   "outputs": [],
   "source": []
  },
  {
   "cell_type": "code",
   "execution_count": null,
   "metadata": {},
   "outputs": [],
   "source": [
    "find_entropy_attribute(df,'Outlook')"
   ]
  },
  {
   "cell_type": "code",
   "execution_count": null,
   "metadata": {},
   "outputs": [],
   "source": [
    "df[(df['Play_Tennis']=='YES')].count().iloc[0]"
   ]
  },
  {
   "cell_type": "code",
   "execution_count": 3,
   "metadata": {},
   "outputs": [
    {
     "data": {
      "text/plain": [
       "0.9403"
      ]
     },
     "execution_count": 3,
     "metadata": {},
     "output_type": "execute_result"
    }
   ],
   "source": [
    "def Entropy(df):\n",
    "    target=df.columns[-1]\n",
    "    entropy=0\n",
    "    for val in df[target].unique():\n",
    "        count=df[(df[target]==val)].count().iloc[0]/len(df)\n",
    "        entropy+=-count*math.log(count,2)\n",
    "    return  round(entropy,4)\n",
    "Entropy(df)        "
   ]
  },
  {
   "cell_type": "code",
   "execution_count": 4,
   "metadata": {},
   "outputs": [],
   "source": [
    "def Entropy_column(df,col):\n",
    "    target=df.columns[-1]\n",
    "    temp=[]\n",
    "    for val in df[col].unique():\n",
    "        entropy=0\n",
    "        for label in df[target].unique():\n",
    "            n=int(df[(df[col]==val) & (df[target]==label)].count()[col])\n",
    "            total=len(df[(df[col]==val)])\n",
    "            fraction=n/total\n",
    "            if(fraction==0):\n",
    "                entropy+=0\n",
    "            else:\n",
    "                entropy+=-fraction*math.log(fraction,2)\n",
    "        temp.append(round(entropy,3))\n",
    "    return temp"
   ]
  },
  {
   "cell_type": "code",
   "execution_count": null,
   "metadata": {},
   "outputs": [],
   "source": [
    "def gain(df):\n",
    "    E=Entropy(df)\n",
    "    gain={}\n",
    "    for col in df.columns[:-1]:\n",
    "        temp=0\n",
    "        i=0\n",
    "        for val in df[col].unique():\n",
    "            temp=temp- (int(df[df[col]==val].count()[col])/len(df))*colEntropy[col][i]\n",
    "            i+=1\n",
    "        gain[col]=round(E+temp,4)\n",
    "    return gain\n",
    "def rootnode(df):\n",
    "    IG=gain(df)\n",
    "    inverse = [(value, key) for key, value in IG.items()]\n",
    "    return max(inverse)[1]\n",
    "\n",
    "print(gain(df))\n",
    "print(node(gain(df)))        "
   ]
  },
  {
   "cell_type": "code",
   "execution_count": 5,
   "metadata": {},
   "outputs": [],
   "source": [
    "def treeNode(df):\n",
    "    E=Entropy(df)\n",
    "    IG = []\n",
    "    for col in df.columns[:-1]:\n",
    "        entropy=Entropy_column(df,col)\n",
    "        IG.append(E-sum(entropy)/len(entropy))\n",
    "    return df.keys()[:-1][np.argmax(IG)]"
   ]
  },
  {
   "cell_type": "code",
   "execution_count": 56,
   "metadata": {},
   "outputs": [],
   "source": [
    "def get_subtable(df, node,value):\n",
    "  return df[df[node] == value].reset_index(drop=True)"
   ]
  },
  {
   "cell_type": "code",
   "execution_count": 57,
   "metadata": {},
   "outputs": [
    {
     "data": {
      "text/html": [
       "<div>\n",
       "<style scoped>\n",
       "    .dataframe tbody tr th:only-of-type {\n",
       "        vertical-align: middle;\n",
       "    }\n",
       "\n",
       "    .dataframe tbody tr th {\n",
       "        vertical-align: top;\n",
       "    }\n",
       "\n",
       "    .dataframe thead th {\n",
       "        text-align: right;\n",
       "    }\n",
       "</style>\n",
       "<table border=\"1\" class=\"dataframe\">\n",
       "  <thead>\n",
       "    <tr style=\"text-align: right;\">\n",
       "      <th></th>\n",
       "      <th>Outlook</th>\n",
       "      <th>Temparature</th>\n",
       "      <th>Humidty</th>\n",
       "      <th>Wind</th>\n",
       "      <th>Play_Tennis</th>\n",
       "    </tr>\n",
       "  </thead>\n",
       "  <tbody>\n",
       "    <tr>\n",
       "      <th>0</th>\n",
       "      <td>Sunny</td>\n",
       "      <td>Hot</td>\n",
       "      <td>High</td>\n",
       "      <td>Weak</td>\n",
       "      <td>NO</td>\n",
       "    </tr>\n",
       "    <tr>\n",
       "      <th>1</th>\n",
       "      <td>Sunny</td>\n",
       "      <td>Hot</td>\n",
       "      <td>High</td>\n",
       "      <td>Strong</td>\n",
       "      <td>NO</td>\n",
       "    </tr>\n",
       "    <tr>\n",
       "      <th>2</th>\n",
       "      <td>Sunny</td>\n",
       "      <td>Mild</td>\n",
       "      <td>High</td>\n",
       "      <td>Weak</td>\n",
       "      <td>NO</td>\n",
       "    </tr>\n",
       "    <tr>\n",
       "      <th>3</th>\n",
       "      <td>Sunny</td>\n",
       "      <td>Cool</td>\n",
       "      <td>Normal</td>\n",
       "      <td>Weak</td>\n",
       "      <td>YES</td>\n",
       "    </tr>\n",
       "    <tr>\n",
       "      <th>4</th>\n",
       "      <td>Sunny</td>\n",
       "      <td>Mild</td>\n",
       "      <td>Normal</td>\n",
       "      <td>Strong</td>\n",
       "      <td>YES</td>\n",
       "    </tr>\n",
       "  </tbody>\n",
       "</table>\n",
       "</div>"
      ],
      "text/plain": [
       "  Outlook Temparature Humidty    Wind Play_Tennis\n",
       "0   Sunny         Hot    High    Weak          NO\n",
       "1   Sunny         Hot    High  Strong          NO\n",
       "2   Sunny        Mild    High    Weak          NO\n",
       "3   Sunny        Cool  Normal    Weak         YES\n",
       "4   Sunny        Mild  Normal  Strong         YES"
      ]
     },
     "execution_count": 57,
     "metadata": {},
     "output_type": "execute_result"
    }
   ],
   "source": [
    "subtable = get_subtable(df,'Outlook','Sunny')\n",
    "subtable"
   ]
  },
  {
   "cell_type": "code",
   "execution_count": 26,
   "metadata": {},
   "outputs": [
    {
     "data": {
      "text/plain": [
       "(array(['NO', 'YES'], dtype=object), array([3, 2]))"
      ]
     },
     "execution_count": 26,
     "metadata": {},
     "output_type": "execute_result"
    }
   ],
   "source": [
    "np.unique(subtable['Play_Tennis'],return_counts=True)                        "
   ]
  },
  {
   "cell_type": "code",
   "execution_count": 60,
   "metadata": {},
   "outputs": [],
   "source": [
    "def buildTree(df,tree=None): \n",
    "    target = list(df.columns[-1:])[0] #target-variable\n",
    "\n",
    "    #get feature of max IG\n",
    "    node = treeNode(df)\n",
    "\n",
    "    #get unique values of node\n",
    "    attValues = df[node].unique()\n",
    "    \n",
    "    if tree is None:                    \n",
    "        tree={}\n",
    "        tree[node] = {}\n",
    "    \n",
    "    #loop to construct a tree by calling this function recursively. \n",
    "    for value in attValues:\n",
    "        \n",
    "        #subset of df after root node\n",
    "        subtable = get_subtable(df,node,value)\n",
    "        print(node,value)\n",
    "        print(subtable)\n",
    "        #get target variables with there count\n",
    "        clValue,counts = np.unique(subtable[target],return_counts=True)                        \n",
    "        \n",
    "        if len(counts)==1:#Checking purity of subset\n",
    "            tree[node][value] = clValue[0]                                                    \n",
    "        else:        \n",
    "            tree[node][value] = buildTree(subtable) #Calling the function recursively \n",
    "                   \n",
    "    return tree"
   ]
  },
  {
   "cell_type": "code",
   "execution_count": 61,
   "metadata": {},
   "outputs": [
    {
     "name": "stdout",
     "output_type": "stream",
     "text": [
      "Outlook Sunny\n",
      "  Outlook Temparature Humidty    Wind Play_Tennis\n",
      "0   Sunny         Hot    High    Weak          NO\n",
      "1   Sunny         Hot    High  Strong          NO\n",
      "2   Sunny        Mild    High    Weak          NO\n",
      "3   Sunny        Cool  Normal    Weak         YES\n",
      "4   Sunny        Mild  Normal  Strong         YES\n",
      "Humidty High\n",
      "  Outlook Temparature Humidty    Wind Play_Tennis\n",
      "0   Sunny         Hot    High    Weak          NO\n",
      "1   Sunny         Hot    High  Strong          NO\n",
      "2   Sunny        Mild    High    Weak          NO\n",
      "Humidty Normal\n",
      "  Outlook Temparature Humidty    Wind Play_Tennis\n",
      "0   Sunny        Cool  Normal    Weak         YES\n",
      "1   Sunny        Mild  Normal  Strong         YES\n",
      "Outlook Overcast\n",
      "    Outlook Temparature Humidty    Wind Play_Tennis\n",
      "0  Overcast         Hot    High    Weak         YES\n",
      "1  Overcast        Cool  Normal  Strong         YES\n",
      "2  Overcast        Mild    High  Strong         YES\n",
      "3  Overcast         Hot  Normal    Weak         YES\n",
      "Outlook Rain\n",
      "  Outlook Temparature Humidty    Wind Play_Tennis\n",
      "0    Rain        Mild    High    Weak         YES\n",
      "1    Rain        Cool  Normal    Weak         YES\n",
      "2    Rain        Cool  Normal  Strong          NO\n",
      "3    Rain        Mild  Normal    Weak         YES\n",
      "4    Rain        Mild    High  Strong          NO\n",
      "Wind Weak\n",
      "  Outlook Temparature Humidty  Wind Play_Tennis\n",
      "0    Rain        Mild    High  Weak         YES\n",
      "1    Rain        Cool  Normal  Weak         YES\n",
      "2    Rain        Mild  Normal  Weak         YES\n",
      "Wind Strong\n",
      "  Outlook Temparature Humidty    Wind Play_Tennis\n",
      "0    Rain        Cool  Normal  Strong          NO\n",
      "1    Rain        Mild    High  Strong          NO\n",
      "{'Outlook': {'Overcast': 'YES',\n",
      "             'Rain': {'Wind': {'Strong': 'NO', 'Weak': 'YES'}},\n",
      "             'Sunny': {'Humidty': {'High': 'NO', 'Normal': 'YES'}}}}\n"
     ]
    }
   ],
   "source": [
    "tree=buildTree(df)\n",
    "pprint.pprint(tree)"
   ]
  },
  {
   "cell_type": "code",
   "execution_count": 35,
   "metadata": {},
   "outputs": [
    {
     "data": {
      "text/plain": [
       "{'Outlook': {'Sunny': {'Humidty': {'High': 'NO', 'Normal': 'YES'}},\n",
       "  'Overcast': 'YES',\n",
       "  'Rain': {'Wind': {'Weak': 'YES', 'Strong': 'NO'}}}}"
      ]
     },
     "execution_count": 35,
     "metadata": {},
     "output_type": "execute_result"
    }
   ],
   "source": [
    "tree"
   ]
  },
  {
   "cell_type": "code",
   "execution_count": null,
   "metadata": {},
   "outputs": [],
   "source": [
    "for col in df.columns:\n",
    "    entro=Entropy_column(df,col)\n",
    "    print(col,round(sum(entro)/len(entro),3))"
   ]
  },
  {
   "cell_type": "code",
   "execution_count": 36,
   "metadata": {},
   "outputs": [
    {
     "name": "stdout",
     "output_type": "stream",
     "text": [
      "[('Outlook', 'Sunny'), ('Outlook', 'Overcast'), ('Outlook', 'Rain')]\n"
     ]
    }
   ],
   "source": [
    "def generate_edges(graph):\n",
    "    edges = []\n",
    "    for node in graph:\n",
    "        for neighbour in graph[node]:\n",
    "            edges.append((node, neighbour))\n",
    "\n",
    "    return edges\n",
    "\n",
    "print(generate_edges(tree))\n"
   ]
  },
  {
   "cell_type": "code",
   "execution_count": null,
   "metadata": {},
   "outputs": [],
   "source": [
    "eps = np.finfo(float).eps\n",
    "from numpy import log2 as log\n",
    "attribute = 'Outlook'\n",
    "target_variables = df['Play_Tennis'].unique()  #This gives all 'Yes' and 'No'\n",
    "variables = df[attribute].unique()    #This gives different features in that attribute (like 'Sweet')\n",
    "entropy_attribute = 0\n",
    "for variable in variables:\n",
    "    entropy_each_feature = 0\n",
    "    for target_variable in target_variables:\n",
    "        num = len(df[attribute][df[attribute]==variable][df['Play_Tennis'] ==target_variable]) #numerator\n",
    "        den = len(df[attribute][df[attribute]==variable])  #denominator\n",
    "        fraction = num/(den+eps)  #pi\n",
    "        entropy_each_feature += -fraction*log(fraction+eps) #This calculates entropy for one feature like 'Sweet'\n",
    "    fraction2 = den/len(df)\n",
    "    entropy_attribute += -fraction2*entropy_each_feature  "
   ]
  },
  {
   "cell_type": "code",
   "execution_count": null,
   "metadata": {},
   "outputs": [],
   "source": [
    "entropy_attribute"
   ]
  },
  {
   "cell_type": "code",
   "execution_count": null,
   "metadata": {},
   "outputs": [],
   "source": []
  }
 ],
 "metadata": {
  "kernelspec": {
   "display_name": "Python 3.8.3 64-bit ('base': conda)",
   "language": "python",
   "name": "python38364bitbaseconda14573fd2ccc84d04813e3b8f229a0662"
  },
  "language_info": {
   "codemirror_mode": {
    "name": "ipython",
    "version": 3
   },
   "file_extension": ".py",
   "mimetype": "text/x-python",
   "name": "python",
   "nbconvert_exporter": "python",
   "pygments_lexer": "ipython3",
   "version": "3.8.3"
  }
 },
 "nbformat": 4,
 "nbformat_minor": 4
}
