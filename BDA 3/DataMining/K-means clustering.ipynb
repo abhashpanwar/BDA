{
 "cells": [
  {
   "cell_type": "code",
   "execution_count": 68,
   "metadata": {},
   "outputs": [],
   "source": [
    "import numpy as np\n",
    "import pandas as pd\n",
    "import matplotlib.pyplot as plt\n",
    "%matplotlib inline"
   ]
  },
  {
   "cell_type": "code",
   "execution_count": 69,
   "metadata": {},
   "outputs": [
    {
     "name": "stdout",
     "output_type": "stream",
     "text": [
      "   Weight  pH-Index Medicine\n",
      "0       1         1        A\n",
      "1       2         1        B\n",
      "2       4         3        C\n",
      "3       5         4        D\n"
     ]
    }
   ],
   "source": [
    "df = pd.DataFrame({    \n",
    "    'Weight': [1,2,4,5],\n",
    "    'pH-Index': [1,1,3,4],\n",
    "    'Medicine': ['A','B','C','D']\n",
    "})\n",
    "print(df)"
   ]
  },
  {
   "cell_type": "code",
   "execution_count": 149,
   "metadata": {},
   "outputs": [
    {
     "data": {
      "image/png": "[encoded data removed]",
      "text/plain": [
       "<Figure size 360x360 with 1 Axes>"
      ]
     },
     "metadata": {
      "needs_background": "light"
     },
     "output_type": "display_data"
    }
   ],
   "source": [
    "fig = plt.figure(figsize=(5, 5))\n",
    "plt.scatter(df['Weight'], df['pH-Index'], color='r',marker='*',s=200)\n",
    "plt.xticks([0,1,2,3,4,5,6])\n",
    "plt.xlabel(\"Weight\")\n",
    "plt.ylabel(\"pH-Index\")\n",
    "plt.show()"
   ]
  },
  {
   "cell_type": "code",
   "execution_count": 150,
   "metadata": {},
   "outputs": [],
   "source": [
    "X = df.iloc[:, [0, 1]].values"
   ]
  },
  {
   "cell_type": "code",
   "execution_count": 151,
   "metadata": {},
   "outputs": [],
   "source": [
    "m=X.shape[0] #number of training examples\n",
    "n=X.shape[1] #number of features. Here n=2\n",
    "K=2\n",
    "n_iter=10"
   ]
  },
  {
   "cell_type": "code",
   "execution_count": 160,
   "metadata": {},
   "outputs": [
    {
     "name": "stdout",
     "output_type": "stream",
     "text": [
      "[[1. 2.]\n",
      " [1. 1.]]\n"
     ]
    }
   ],
   "source": [
    "#Step 1: create random Centroids\n",
    "np.random.seed(0)\n",
    "Centroids=np.array([]).reshape(n,0)\n",
    "for i in range(K):\n",
    "    rand=np.random.randint(0,m-1)\n",
    "    Centroids=np.c_[Centroids,X[rand]]\n",
    "print(Centroids)    "
   ]
  },
  {
   "cell_type": "code",
   "execution_count": 161,
   "metadata": {},
   "outputs": [],
   "source": [
    "#Step 2: Calculate euclidian distance\n",
    "\n",
    "EuclidianDistance=np.array([]).reshape(m,0)\n",
    "for k in range(K):\n",
    "    tempDist=np.sum((X-Centroids[:,k])**2,axis=1)\n",
    "    EuclidianDistance=np.c_[EuclidianDistance,tempDist]\n",
    "C=np.argmin(EuclidianDistance,axis=1)+1"
   ]
  },
  {
   "cell_type": "code",
   "execution_count": 162,
   "metadata": {},
   "outputs": [
    {
     "name": "stdout",
     "output_type": "stream",
     "text": [
      "[[ 0.  1.]\n",
      " [ 1.  0.]\n",
      " [13.  8.]\n",
      " [25. 18.]]\n",
      "[1 2 2 2]\n"
     ]
    }
   ],
   "source": [
    "print(EuclidianDistance) # distance\n",
    "print(C) #index of min distance"
   ]
  },
  {
   "cell_type": "code",
   "execution_count": 163,
   "metadata": {},
   "outputs": [],
   "source": [
    "#Step 3:\n",
    "\n",
    "Y={} # Y stores the solution for one particular iteration.\n",
    "for k in range(K):\n",
    "    Y[k+1]=np.array([]).reshape(2,0)\n",
    "for i in range(m):\n",
    "    Y[C[i]]=np.c_[Y[C[i]],X[i]]\n",
    "     \n",
    "for k in range(K):\n",
    "    Y[k+1]=Y[k+1].T\n",
    "    \n",
    "for k in range(K):\n",
    "     Centroids[:,k]=np.mean(Y[k+1],axis=0)"
   ]
  },
  {
   "cell_type": "code",
   "execution_count": 164,
   "metadata": {},
   "outputs": [],
   "source": [
    "#Repeate till no new assignment Membership in each cluster no longer change\n",
    "\n",
    "for i in range(n_iter):\n",
    "    \n",
    "    EuclidianDistance=np.array([]).reshape(m,0)\n",
    "    for k in range(K):\n",
    "      tempDist=np.sum((X-Centroids[:,k])**2,axis=1)\n",
    "      EuclidianDistance=np.c_[EuclidianDistance,tempDist]\n",
    "    C=np.argmin(EuclidianDistance,axis=1)+1\n",
    "    \n",
    "\n",
    "    Y={}\n",
    "    for k in range(K):\n",
    "      Y[k+1]=np.array([]).reshape(2,0)\n",
    "    for i in range(m):\n",
    "      Y[C[i]]=np.c_[Y[C[i]],X[i]]\n",
    "\n",
    "    for k in range(K):\n",
    "      Y[k+1]=Y[k+1].T\n",
    "\n",
    "    for k in range(K):\n",
    "      Centroids[:,k]=np.mean(Y[k+1],axis=0)\n",
    "    Output=Y"
   ]
  },
  {
   "cell_type": "code",
   "execution_count": 165,
   "metadata": {},
   "outputs": [
    {
     "data": {
      "text/plain": [
       "{1: array([[1., 1.],\n",
       "        [2., 1.]]),\n",
       " 2: array([[4., 3.],\n",
       "        [5., 4.]])}"
      ]
     },
     "execution_count": 165,
     "metadata": {},
     "output_type": "execute_result"
    }
   ],
   "source": [
    "Output"
   ]
  },
  {
   "cell_type": "code",
   "execution_count": 166,
   "metadata": {},
   "outputs": [
    {
     "data": {
      "text/plain": [
       "array([[1.5, 4.5],\n",
       "       [1. , 3.5]])"
      ]
     },
     "execution_count": 166,
     "metadata": {},
     "output_type": "execute_result"
    }
   ],
   "source": [
    "Centroids"
   ]
  },
  {
   "cell_type": "code",
   "execution_count": 167,
   "metadata": {},
   "outputs": [
    {
     "data": {
      "image/png": "[encoded data removed]",
      "text/plain": [
       "<Figure size 360x360 with 1 Axes>"
      ]
     },
     "metadata": {
      "needs_background": "light"
     },
     "output_type": "display_data"
    }
   ],
   "source": [
    "color=['blue','green']\n",
    "markers=['*','+']\n",
    "labels=['cluster1','cluster2']\n",
    "\n",
    "plt.figure(figsize=(5,5))\n",
    "for k in range(K):\n",
    "    plt.scatter(Output[k+1][:,0],Output[k+1][:,1],s=200,marker=markers[k],c=color[k],label=labels[k])\n",
    "plt.scatter(Centroids[0,:],Centroids[1,:],s=80,c='red',label='Centroids')\n",
    "plt.xlabel(\"Weight\")\n",
    "plt.ylabel(\"pH-Index\")\n",
    "for i,x in enumerate(X,0):\n",
    "    plt.text(x[0],x[1]+0.2,str(df.iloc[i]['Medicine']),fontsize=18)\n",
    "plt.xticks([0,1,2,3,4,5,6])\n",
    "plt.yticks([0,1,2,3,4,5,6])\n",
    "plt.grid()\n",
    "plt.legend()\n",
    "plt.show()"
   ]
  },
  {
   "cell_type": "code",
   "execution_count": null,
   "metadata": {},
   "outputs": [],
   "source": []
  },
  {
   "cell_type": "code",
   "execution_count": null,
   "metadata": {},
   "outputs": [],
   "source": []
  }
 ],
 "metadata": {
  "kernelspec": {
   "display_name": "Python 3.6.10 64-bit ('mypython3': conda)",
   "language": "python",
   "name": "python361064bitmypython3condaede5ad35bff54ba4a736b600306c2152"
  },
  "language_info": {
   "codemirror_mode": {
    "name": "ipython",
    "version": 3
   },
   "file_extension": ".py",
   "mimetype": "text/x-python",
   "name": "python",
   "nbconvert_exporter": "python",
   "pygments_lexer": "ipython3",
   "version": "3.6.10"
  }
 },
 "nbformat": 4,
 "nbformat_minor": 4
}
