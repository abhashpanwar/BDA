{
  "nbformat": 4,
  "nbformat_minor": 0,
  "metadata": {
    "colab": {
      "name": "aprioriAlgorithm.ipynb",
      "provenance": [],
      "collapsed_sections": []
    },
    "kernelspec": {
      "name": "python3",
      "display_name": "Python 3"
    }
  },
  "cells": [
    {
      "cell_type": "code",
      "metadata": {
        "id": "E9dCbgBiQjkV",
        "colab_type": "code",
        "colab": {}
      },
      "source": [
        "from itertools import combinations\n",
        "from operator import itemgetter\n",
        "import pandas as pd\n",
        "from time import time\n",
        "import itertools"
      ],
      "execution_count": 1,
      "outputs": []
    },
    {
      "cell_type": "code",
      "metadata": {
        "id": "CnFd5q3EEeys",
        "colab_type": "code",
        "colab": {
          "base_uri": "https://localhost:8080/",
          "height": 204
        },
        "outputId": "6a068452-04fc-4458-f229-26e498aeacaf"
      },
      "source": [
        "#load dataset\n",
        "datasetURL='https://raw.githubusercontent.com/abhashpanwar/BDA/master/DataMining/aprioriAlgo_dataset.csv'\n",
        "table = pd.read_csv(datasetURL,error_bad_lines=False)\n",
        "print(table)"
      ],
      "execution_count": 2,
      "outputs": [
        {
          "output_type": "stream",
          "text": [
            "     items\n",
            "0    A,B,E\n",
            "1      B,D\n",
            "2      B,C\n",
            "3    A,B,D\n",
            "4      A,C\n",
            "5      B,C\n",
            "6      A,C\n",
            "7  A,B,C,E\n",
            "8    A,B,C\n",
            "9        F\n"
          ],
          "name": "stdout"
        }
      ]
    },
    {
      "cell_type": "code",
      "metadata": {
        "id": "TCJ9DZFQFMXp",
        "colab_type": "code",
        "colab": {}
      },
      "source": [
        "support=2 #min support\n",
        "minimum_confidence=30 #30%"
      ],
      "execution_count": 3,
      "outputs": []
    },
    {
      "cell_type": "code",
      "metadata": {
        "id": "kJH01MYGL50P",
        "colab_type": "code",
        "colab": {}
      },
      "source": [
        "def aprioriAlgo(data, support_count):\n",
        "    #\\ is used of indent\n",
        "\n",
        "    #generate list of single items \n",
        "    single_items = (data['items'].str.split(\",\", expand=True))\\\n",
        "        .apply(pd.value_counts).sum(axis=1).where(lambda value: value >= support_count).dropna()\n",
        "    \n",
        "    #create dataframe of items with support \n",
        "    apriori_data = pd.DataFrame(\n",
        "        {'items': single_items.index.astype(str), 'support': single_items.values, 'Li': 1})\n",
        "\n",
        "    data['Li'] = data['items'].str.count(\",\") + 1\n",
        "\n",
        "    data['items'] = data['items'].apply(lambda row: set(map(str, row.split(\",\"))))\n",
        "    \n",
        "    #first candidate itemset C1\n",
        "    single_items_set = set(single_items.index.astype(str))\n",
        "\n",
        "    #loop for frequent items\n",
        "    for length in range(2, len(single_items_set) + 1):\n",
        "        data = data[data['Li'] >= length]        \n",
        "        d = data['items'] \\\n",
        "            .apply(lambda st: pd.Series(s if set(s).issubset(st) else None for s in combinations(single_items_set, length))) \\\n",
        "            .apply(lambda col: [col.dropna().unique()[0], col.count()] if col.count() >= support_count else None).dropna()\n",
        "        if d.empty:\n",
        "            break\n",
        "        apriori_data = apriori_data.append(pd.DataFrame(\n",
        "            {'items': list(map(itemgetter(0), d.values)), 'support': list(map(itemgetter(1), d.values)),\n",
        "             'Li': length}), ignore_index=True)\n",
        "\n",
        "    return apriori_data    "
      ],
      "execution_count": 4,
      "outputs": []
    },
    {
      "cell_type": "code",
      "metadata": {
        "id": "2JAk2rslPi3S",
        "colab_type": "code",
        "colab": {
          "base_uri": "https://localhost:8080/",
          "height": 340
        },
        "outputId": "1a5b87fb-cd31-4b36-da86-1ac335e15239"
      },
      "source": [
        "df=aprioriAlgo(data=table, support_count=support) #call function to find frequent items\n",
        "\n",
        "for i in df.Li.unique():\n",
        "  print('L{}:'.format(i))\n",
        "  print(df[df['Li']==i][['items','support']].to_string(index=False))"
      ],
      "execution_count": 5,
      "outputs": [
        {
          "output_type": "stream",
          "text": [
            "L1:\n",
            "items  support\n",
            "    A      6.0\n",
            "    B      7.0\n",
            "    C      6.0\n",
            "    D      2.0\n",
            "    E      2.0\n",
            "L2:\n",
            "  items  support\n",
            " (E, A)      2.0\n",
            " (E, B)      2.0\n",
            " (D, B)      2.0\n",
            " (C, A)      4.0\n",
            " (C, B)      4.0\n",
            " (A, B)      4.0\n",
            "L3:\n",
            "     items  support\n",
            " (E, A, B)      2.0\n",
            " (C, A, B)      2.0\n"
          ],
          "name": "stdout"
        }
      ]
    },
    {
      "cell_type": "code",
      "metadata": {
        "id": "jC0BvAj1YJt7",
        "colab_type": "code",
        "colab": {
          "base_uri": "https://localhost:8080/",
          "height": 68
        },
        "outputId": "ad947c8d-a7a0-424a-a262-e4efdb6a85d2"
      },
      "source": [
        "lastIndex=df.Li.unique()[-1]\n",
        "print(\"Largest Frequent Items:\")\n",
        "for i in df[df['Li']==lastIndex][['items']].values:\n",
        "  print(\",\".join(sorted(i.item())))  "
      ],
      "execution_count": 6,
      "outputs": [
        {
          "output_type": "stream",
          "text": [
            "Largest Frequent Items:\n",
            "A,B,E\n",
            "A,B,C\n"
          ],
          "name": "stdout"
        }
      ]
    },
    {
      "cell_type": "markdown",
      "metadata": {
        "id": "dLeej_dCAV7g",
        "colab_type": "text"
      },
      "source": [
        "## **Find Association**"
      ]
    },
    {
      "cell_type": "code",
      "metadata": {
        "id": "8Dd-hEP0mlnK",
        "colab_type": "code",
        "colab": {}
      },
      "source": [
        "#no. items in association rules\n",
        "totalConfidence=len(df[df['Li']==lastIndex][['items']].values.flatten()[0])*2*len(df[df['Li']==lastIndex][['items']].values.flatten())"
      ],
      "execution_count": 7,
      "outputs": []
    },
    {
      "cell_type": "code",
      "metadata": {
        "id": "i6xg5XPfm1Ah",
        "colab_type": "code",
        "colab": {}
      },
      "source": [
        "confidenceTable=pd.DataFrame()\n",
        "confidenceTable['item']=list(range(totalConfidence))"
      ],
      "execution_count": 8,
      "outputs": []
    },
    {
      "cell_type": "code",
      "metadata": {
        "id": "4vYaO4knoIMY",
        "colab_type": "code",
        "colab": {}
      },
      "source": [
        "def get_pairs(left,right):\n",
        "  lst=[]\n",
        "  for i in range(len(left)):\n",
        "    temp=\",\".join(left[i])+'->'+str(right[i])\n",
        "    lst.append(temp)\n",
        "  for i in range(len(left)):\n",
        "    temp=str(right[i])+'->'+\",\".join(left[i])\n",
        "    lst.append(temp)\n",
        "  return lst"
      ],
      "execution_count": 9,
      "outputs": []
    },
    {
      "cell_type": "code",
      "metadata": {
        "id": "bpnTM4rCjTCF",
        "colab_type": "code",
        "colab": {}
      },
      "source": [
        "def generatePairs():\n",
        "  allelements=[]\n",
        "  for i in df[df['Li']==lastIndex][['items']].values:\n",
        "    temp=list(sorted(i.item()))\n",
        "    res = list(zip(temp, temp[1:] + temp[:1])) \n",
        "    left = [[(temp[i]), temp[(i + 1) % len(temp)]]  \n",
        "            for i in range(len(temp))] \n",
        "    right = [temp[(i + 1) % len(temp)-2]  for i in range(len(temp))]    \n",
        "    allelements.append(get_pairs(left,right))\n",
        "  return allelements"
      ],
      "execution_count": 10,
      "outputs": []
    },
    {
      "cell_type": "code",
      "metadata": {
        "id": "ins25QU7o4Wo",
        "colab_type": "code",
        "colab": {
          "base_uri": "https://localhost:8080/",
          "height": 34
        },
        "outputId": "b721e519-f9a3-4ee3-97e3-fb00cf3411f3"
      },
      "source": [
        "#generate all possible subsets of frequent items\n",
        "a=generatePairs()\n",
        "finalList=list(itertools.chain.from_iterable(a))\n",
        "print(finalList)"
      ],
      "execution_count": 11,
      "outputs": [
        {
          "output_type": "stream",
          "text": [
            "['A,B->E', 'B,E->A', 'E,A->B', 'E->A,B', 'A->B,E', 'B->E,A', 'A,B->C', 'B,C->A', 'C,A->B', 'C->A,B', 'A->B,C', 'B->C,A']\n"
          ],
          "name": "stdout"
        }
      ]
    },
    {
      "cell_type": "code",
      "metadata": {
        "id": "25k1ys7lnrwU",
        "colab_type": "code",
        "colab": {}
      },
      "source": [
        "confidenceTable['item']=finalList\n",
        "confidenceTable['confidence']=0"
      ],
      "execution_count": 12,
      "outputs": []
    },
    {
      "cell_type": "code",
      "metadata": {
        "id": "w6PJzcBIfh5z",
        "colab_type": "code",
        "colab": {}
      },
      "source": [
        "#confidenceTable"
      ],
      "execution_count": 13,
      "outputs": []
    },
    {
      "cell_type": "code",
      "metadata": {
        "id": "3ftPcPf_t4VR",
        "colab_type": "code",
        "colab": {}
      },
      "source": [
        "for k in range(len(confidenceTable)):\n",
        "  l1=list(confidenceTable.iloc[k].values[0].split('->')[0].split(','))\n",
        "  l2=list(confidenceTable.iloc[k].values[0].split('->')[1].split(','))\n",
        "  l2=l1+l2\n",
        "\n",
        "  #left->right i.e AB->E\n",
        "  union_count=0\n",
        "  left_count=0\n",
        "  for i in table['items']:\n",
        "    check1 =  all(item in i for item in l1) \n",
        "    check2 =  all(item in i for item in l2)\n",
        "    if check1 is True:\n",
        "      union_count+=1 #support of left \n",
        "    if check2 is True:\n",
        "      left_count+=1 #support of left union right\n",
        "  confi=round(left_count/union_count*100,2)\n",
        "  #print(k,confi)\n",
        "  confidenceTable.loc[k,'confidence']=confi"
      ],
      "execution_count": 14,
      "outputs": []
    },
    {
      "cell_type": "code",
      "metadata": {
        "id": "AeOe-Oc5C7Ri",
        "colab_type": "code",
        "colab": {}
      },
      "source": [
        "#print(confidenceTable)"
      ],
      "execution_count": 15,
      "outputs": []
    },
    {
      "cell_type": "code",
      "metadata": {
        "id": "VJbPnEQrgkq-",
        "colab_type": "code",
        "colab": {
          "base_uri": "https://localhost:8080/",
          "height": 221
        },
        "outputId": "cf6b3e94-47d7-4b76-990c-48fad8211b26"
      },
      "source": [
        "print(\"Selected Association Rules with confidence {}%:\".format(minimum_confidence))\n",
        "print(confidenceTable[confidenceTable.confidence>=30])"
      ],
      "execution_count": 16,
      "outputs": [
        {
          "output_type": "stream",
          "text": [
            "Selected Association Rules with confidence 30%:\n",
            "      item  confidence\n",
            "0   A,B->E       50.00\n",
            "1   B,E->A      100.00\n",
            "2   E,A->B      100.00\n",
            "3   E->A,B      100.00\n",
            "4   A->B,E       33.33\n",
            "6   A,B->C       50.00\n",
            "7   B,C->A       50.00\n",
            "8   C,A->B       50.00\n",
            "9   C->A,B       33.33\n",
            "10  A->B,C       33.33\n"
          ],
          "name": "stdout"
        }
      ]
    },
    {
      "cell_type": "code",
      "metadata": {
        "id": "Kwia0ETGwaIi",
        "colab_type": "code",
        "colab": {}
      },
      "source": [
        ""
      ],
      "execution_count": 16,
      "outputs": []
    }
  ]
}