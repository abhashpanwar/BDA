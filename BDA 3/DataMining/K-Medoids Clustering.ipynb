{
 "cells": [
  {
   "cell_type": "code",
   "execution_count": 69,
   "metadata": {},
   "outputs": [],
   "source": [
    "import numpy as np\n",
    "import pandas as pd\n",
    "import matplotlib.pyplot as plt\n",
    "%matplotlib inline"
   ]
  },
  {
   "cell_type": "code",
   "execution_count": 70,
   "metadata": {},
   "outputs": [
    {
     "name": "stdout",
     "output_type": "stream",
     "text": [
      "   Weight  pH-Index Medicine\n",
      "0       1         1        A\n",
      "1       2         1        B\n",
      "2       4         3        C\n",
      "3       5         4        D\n",
      "[[1 1]\n",
      " [2 1]\n",
      " [4 3]\n",
      " [5 4]]\n",
      "K = 2\n"
     ]
    }
   ],
   "source": [
    "df = pd.DataFrame({    \n",
    "    'Weight': [1,2,4,5],\n",
    "    'pH-Index': [1,1,3,4],\n",
    "    'Medicine': ['A','B','C','D']\n",
    "})\n",
    "print(df)\n",
    "X = df.iloc[:, [0, 1]].values\n",
    "print(X)\n",
    "\n",
    "K=2\n",
    "print(\"K =\",K)"
   ]
  },
  {
   "cell_type": "code",
   "execution_count": 71,
   "metadata": {},
   "outputs": [
    {
     "name": "stdout",
     "output_type": "stream",
     "text": [
      "Medoids points = [2 3]\n",
      "Initail medoids =  [[4 3]\n",
      " [5 4]]\n"
     ]
    }
   ],
   "source": [
    "np.random.seed(0)\n",
    "medoids=np.random.choice(len(X),size=K,replace=False)\n",
    "print(\"Medoids points =\",medoids)\n",
    "\n",
    "initail_medoids=X[medoids,:]\n",
    "print(\"Initail medoids = \",initail_medoids)"
   ]
  },
  {
   "cell_type": "code",
   "execution_count": 72,
   "metadata": {},
   "outputs": [],
   "source": [
    "#initail medoids cost\n",
    "medoids_cost=[]\n",
    "for i in range(0,K):\n",
    "    medoids_cost.append(0)"
   ]
  },
  {
   "cell_type": "code",
   "execution_count": 73,
   "metadata": {},
   "outputs": [],
   "source": [
    "def euclideanDistance(x, y):   \n",
    "    squared_d = 0\n",
    "    for i in range(len(x)):\n",
    "        squared_d += (x[i] - y[i])**2\n",
    "    d = np.sqrt(squared_d)\n",
    "    return d"
   ]
  },
  {
   "cell_type": "code",
   "execution_count": 74,
   "metadata": {},
   "outputs": [],
   "source": [
    "for i in range(300):\n",
    "    #Labels for this iteration\n",
    "    cur_labels = []\n",
    "    for medoid in range(0,K):\n",
    "        #Dissimilarity cost of the current cluster\n",
    "        medoids_cost[medoid] = 0\n",
    "        for k in range(len(X)):    \n",
    "            #Distances from a data point to each of the medoids\n",
    "            d_list = []                    \n",
    "            for j in range(0,K):\n",
    "                d_list.append(euclideanDistance(initail_medoids[j], X[k]))\n",
    "            \n",
    "            #Data points' label is the medoid which has minimal distance to it\n",
    "            cur_labels.append(d_list.index(min(d_list)))\n",
    "\n",
    "            medoids_cost[medoid] += min(d_list)"
   ]
  },
  {
   "cell_type": "code",
   "execution_count": 75,
   "metadata": {},
   "outputs": [
    {
     "data": {
      "text/plain": [
       "[0, 0, 0, 1, 0, 0, 0, 1]"
      ]
     },
     "execution_count": 75,
     "metadata": {},
     "output_type": "execute_result"
    }
   ],
   "source": [
    "cur_labels"
   ]
  },
  {
   "cell_type": "code",
   "execution_count": 76,
   "metadata": {},
   "outputs": [],
   "source": [
    "# updating medoids\n",
    "\n",
    "# store data to the current cluster they belong to\n",
    "clusters = []\n",
    "for i in range(0,K):\n",
    "    cluster = []\n",
    "    for j in range(len(X)):\n",
    "        if (cur_labels[j] == i):\n",
    "            cluster.append(X[j])\n",
    "    clusters.append(cluster)\n",
    "\n",
    "new_medoids = []\n",
    "for i in range(0, K):\n",
    "    new_medoid = initail_medoids[i]\n",
    "    old_medoids_cost = medoids_cost[i]\n",
    "    for j in range(len(clusters[i])):\n",
    "\n",
    "        # cost of the current data points to be compared with the current optimal cost\n",
    "        cur_medoids_cost = 0\n",
    "        for dpoint_index in range(len(clusters[i])):\n",
    "            cur_medoids_cost += euclideanDistance(clusters[i][j], clusters[i][dpoint_index])\n",
    "        \n",
    "        #make the current data point new medoid of the cluster\n",
    "        if cur_medoids_cost < old_medoids_cost:\n",
    "            new_medoid = clusters[i][j]\n",
    "            old_medoids_cost = cur_medoids_cost\n",
    "\n",
    "    # mow we have the optimal medoid of the current cluster\n",
    "    new_medoids.append(new_medoid)\n"
   ]
  },
  {
   "cell_type": "code",
   "execution_count": 77,
   "metadata": {},
   "outputs": [
    {
     "data": {
      "text/plain": [
       "[array([2, 1]), array([5, 4])]"
      ]
     },
     "execution_count": 77,
     "metadata": {},
     "output_type": "execute_result"
    }
   ],
   "source": [
    "new_medoids"
   ]
  },
  {
   "cell_type": "code",
   "execution_count": 78,
   "metadata": {},
   "outputs": [
    {
     "data": {
      "text/plain": [
       "array([[1, 1],\n",
       "       [2, 1],\n",
       "       [4, 3],\n",
       "       [5, 4]])"
      ]
     },
     "execution_count": 78,
     "metadata": {},
     "output_type": "execute_result"
    }
   ],
   "source": [
    "X"
   ]
  },
  {
   "cell_type": "code",
   "execution_count": 79,
   "metadata": {},
   "outputs": [
    {
     "data": {
      "text/plain": [
       "<matplotlib.collections.PathCollection at 0x7f57db2edf28>"
      ]
     },
     "execution_count": 79,
     "metadata": {},
     "output_type": "execute_result"
    },
    {
     "data": {
      "image/png": "[encoded data removed]",
      "text/plain": [
       "<Figure size 432x288 with 1 Axes>"
      ]
     },
     "metadata": {
      "needs_background": "light"
     },
     "output_type": "display_data"
    }
   ],
   "source": [
    "#visualization \n",
    "plt.scatter(X[:, 0], X[:, 1])\n",
    "plt.scatter(new_medoids[0][0], new_medoids[0][1], color=\"red\")\n",
    "plt.scatter(new_medoids[1][0], new_medoids[1][1], color=\"green\")"
   ]
  },
  {
   "cell_type": "code",
   "execution_count": null,
   "metadata": {},
   "outputs": [],
   "source": []
  }
 ],
 "metadata": {
  "kernelspec": {
   "display_name": "Python 3.6.10 64-bit ('mypython3': conda)",
   "language": "python",
   "name": "python361064bitmypython3condaede5ad35bff54ba4a736b600306c2152"
  },
  "language_info": {
   "codemirror_mode": {
    "name": "ipython",
    "version": 3
   },
   "file_extension": ".py",
   "mimetype": "text/x-python",
   "name": "python",
   "nbconvert_exporter": "python",
   "pygments_lexer": "ipython3",
   "version": "3.6.10"
  }
 },
 "nbformat": 4,
 "nbformat_minor": 4
}
